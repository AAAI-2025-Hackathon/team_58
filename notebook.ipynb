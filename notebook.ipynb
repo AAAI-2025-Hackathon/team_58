{
 "cells": [
  {
   "cell_type": "code",
   "execution_count": 1,
   "metadata": {},
   "outputs": [],
   "source": [
    "from flask import Flask, request, jsonify\n",
    "import os\n",
    "import openai\n",
    "import tiktoken"
   ]
  },
  {
   "cell_type": "code",
   "execution_count": 5,
   "metadata": {},
   "outputs": [],
   "source": [
    "prompt = \"This is AAAI Hackathon\""
   ]
  },
  {
   "cell_type": "code",
   "execution_count": 12,
   "metadata": {},
   "outputs": [
    {
     "name": "stdout",
     "output_type": "stream",
     "text": [
      "Encoded text [2028, 374, 48197, 40, 36082, 24893]\n",
      "Encoding decoded This is AAAI Hackathon\n",
      "b'This'\n",
      "b' is'\n",
      "b' AAA'\n",
      "b'I'\n",
      "b' Hack'\n",
      "b'athon'\n",
      "Decoded text bytes [b'This', b' is', b' AAA', b'I', b' Hack', b'athon']\n"
     ]
    },
    {
     "data": {
      "text/plain": [
       "6"
      ]
     },
     "execution_count": 12,
     "metadata": {},
     "output_type": "execute_result"
    }
   ],
   "source": [
    "encoding = tiktoken.get_encoding(\"cl100k_base\")\n",
    "encoding = tiktoken.encoding_for_model(\"gpt-4\")\n",
    "\n",
    "num_tokens = len(encoding.encode(prompt))\n",
    "encoded_text = encoding.encode(prompt)\n",
    "print(\"Encoded text\",encoded_text)\n",
    "\n",
    "decoded_text = encoding.decode(encoded_text)\n",
    "print(\"Encoding decoded\",decoded_text)\n",
    "\n",
    "decoded_text_bytes=[]\n",
    "for i in range(num_tokens):\n",
    "    decoded_text = encoding.decode_single_token_bytes(encoded_text[i])\n",
    "    print(decoded_text)\n",
    "    decoded_text_bytes.append(decoded_text)\n",
    "    \n",
    "# decoded_text_bytes = encoding.decode_single_token_bytes(encoded_text)\n",
    "print(\"Decoded text bytes\",decoded_text_bytes)\n",
    "\n",
    "num_tokens"
   ]
  },
  {
   "cell_type": "code",
   "execution_count": 16,
   "metadata": {},
   "outputs": [
    {
     "name": "stdout",
     "output_type": "stream",
     "text": [
      "\n",
      "Example string: \"This is AAAI Hackathon\"\n",
      "\n",
      "r50k_base: 6 tokens\n",
      "token integers: [1212, 318, 25734, 40, 18281, 12938]\n",
      "token bytes: [b'This', b' is', b' AAA', b'I', b' Hack', b'athon']\n",
      "\n",
      "p50k_base: 6 tokens\n",
      "token integers: [1212, 318, 25734, 40, 18281, 12938]\n",
      "token bytes: [b'This', b' is', b' AAA', b'I', b' Hack', b'athon']\n",
      "\n",
      "cl100k_base: 6 tokens\n",
      "token integers: [2028, 374, 48197, 40, 36082, 24893]\n",
      "token bytes: [b'This', b' is', b' AAA', b'I', b' Hack', b'athon']\n",
      "\n",
      "o200k_base: 6 tokens\n",
      "token integers: [2500, 382, 68599, 40, 47848, 31327]\n",
      "token bytes: [b'This', b' is', b' AAA', b'I', b' Hack', b'athon']\n"
     ]
    }
   ],
   "source": [
    "def compare_encodings(example_string: str) -> None:\n",
    "    \"\"\"Prints a comparison of three string encodings.\"\"\"\n",
    "    # print the example string\n",
    "    print(f'\\nExample string: \"{example_string}\"')\n",
    "    # for each encoding, print the # of tokens, the token integers, and the token bytes\n",
    "    for encoding_name in [\"r50k_base\", \"p50k_base\", \"cl100k_base\", \"o200k_base\"]:\n",
    "        encoding = tiktoken.get_encoding(encoding_name)\n",
    "        token_integers = encoding.encode(example_string)\n",
    "        num_tokens = len(token_integers)\n",
    "        token_bytes = [encoding.decode_single_token_bytes(token) for token in token_integers]\n",
    "        print()\n",
    "        print(f\"{encoding_name}: {num_tokens} tokens\")\n",
    "        print(f\"token integers: {token_integers}\")\n",
    "        print(f\"token bytes: {token_bytes}\")\n",
    "        \n",
    "compare_encodings(\"This is AAAI Hackathon\")"
   ]
  },
  {
   "cell_type": "code",
   "execution_count": null,
   "metadata": {},
   "outputs": [],
   "source": [
    "encoding = tiktoken.get_encoding(\"cl100k_base\")\n",
    "encoding = tiktoken.encoding_for_model(\"gpt-4\")\n",
    "print(encoding)\n",
    "num_tokens = len(encoding.encode(prompt))\n",
    "print(encoding.encode(prompt))\n",
    "num_tokens"
   ]
  },
  {
   "cell_type": "code",
   "execution_count": null,
   "metadata": {},
   "outputs": [],
   "source": [
    "from flask import Flask, request, jsonify\n",
    "import os\n",
    "import openai\n",
    "import tiktoken\n",
    "\n",
    "app = Flask(__name__)\n",
    "\n",
    "OPEN_AI_API_KEY = os.getenv(\"OPEN_AI_API_KEY\")\n",
    "openai.api_key = OPEN_AI_API_KEY\n",
    "\n",
    "\n",
    "def count_tokens(prompt):\n",
    "    try:\n",
    "        encoding = tiktoken.get_encoding(\"cl100k_base\")\n",
    "        encoding = tiktoken.encoding_for_model(\"gpt-4\")\n",
    "        num_tokens = len(encoding.encode(prompt))\n",
    "        return num_tokens\n",
    "    except:\n",
    "        print(\"Error: Could not encode prompt\")\n",
    "        return len(prompt.split())\n",
    "\n",
    "\n",
    "\n",
    "@app.route(\"/\")\n",
    "def home():\n",
    "    return \"Welcome to EcoGPT!\"\n",
    "\n",
    "\n",
    "@app.route(\"/process_prompt\",methods=[\"POST\"])\n",
    "def process_prompt():\n",
    "    data = request.json\n",
    "    prompt = data.get(\"prompt\",\"\")\n",
    "    model = data.get(\"model\",\"gpt-4\")\n",
    "    estimated_tokens = count_tokens(prompt)         \n",
    "    return jsonify({\n",
    "            \"prompt\":prompt,\n",
    "            \"token_count\":estimated_tokens,\n",
    "    })\n",
    "\n",
    "if __name__ == \"__main__\":\n",
    "    app.run(debug=True)"
   ]
  },
  {
   "cell_type": "code",
   "execution_count": null,
   "metadata": {},
   "outputs": [],
   "source": []
  }
 ],
 "metadata": {
  "kernelspec": {
   "display_name": "venv",
   "language": "python",
   "name": "python3"
  },
  "language_info": {
   "codemirror_mode": {
    "name": "ipython",
    "version": 3
   },
   "file_extension": ".py",
   "mimetype": "text/x-python",
   "name": "python",
   "nbconvert_exporter": "python",
   "pygments_lexer": "ipython3",
   "version": "3.12.4"
  }
 },
 "nbformat": 4,
 "nbformat_minor": 2
}
